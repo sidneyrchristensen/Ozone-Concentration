{
  "cells": [
    {
      "cell_type": "markdown",
      "metadata": {
        "id": "KOPuMUKHGrAs"
      },
      "source": [
        "LOADING THE DATA"
      ]
    },
    {
      "cell_type": "code",
      "execution_count": null,
      "metadata": {
        "id": "JMNvO07tz8XI"
      },
      "outputs": [],
      "source": [
        "data = read.table(\"http://www-stat.stanford.edu/~tibs/ElemStatLearn/datasets/LAozone.data\",sep=\",\",head=T)"
      ]
    },
    {
      "cell_type": "markdown",
      "metadata": {
        "id": "HrBTtPmgGoed"
      },
      "source": [
        "PACKAGES"
      ]
    },
    {
      "cell_type": "code",
      "execution_count": null,
      "metadata": {
        "id": "Ew7xJZ-w3dJ9",
        "colab": {
          "base_uri": "https://localhost:8080/"
        },
        "outputId": "dd83d9b1-2817-435d-ac9a-5571bb24dbc2"
      },
      "outputs": [
        {
          "output_type": "stream",
          "name": "stderr",
          "text": [
            "Installing package into ‘/usr/local/lib/R/site-library’\n",
            "(as ‘lib’ is unspecified)\n",
            "\n",
            "also installing the dependency ‘mnormt’\n",
            "\n",
            "\n",
            "Installing package into ‘/usr/local/lib/R/site-library’\n",
            "(as ‘lib’ is unspecified)\n",
            "\n",
            "also installing the dependencies ‘plyr’, ‘Rcpp’\n",
            "\n",
            "\n",
            "Installing package into ‘/usr/local/lib/R/site-library’\n",
            "(as ‘lib’ is unspecified)\n",
            "\n",
            "also installing the dependencies ‘listenv’, ‘parallelly’, ‘future’, ‘globals’, ‘shape’, ‘future.apply’, ‘numDeriv’, ‘progressr’, ‘SQUAREM’, ‘diagram’, ‘lava’, ‘prodlim’, ‘proxy’, ‘iterators’, ‘clock’, ‘gower’, ‘hardhat’, ‘ipred’, ‘timeDate’, ‘e1071’, ‘foreach’, ‘ModelMetrics’, ‘pROC’, ‘recipes’\n",
            "\n",
            "\n",
            "Installing package into ‘/usr/local/lib/R/site-library’\n",
            "(as ‘lib’ is unspecified)\n",
            "\n",
            "also installing the dependency ‘bitops’\n",
            "\n",
            "\n",
            "Installing package into ‘/usr/local/lib/R/site-library’\n",
            "(as ‘lib’ is unspecified)\n",
            "\n",
            "also installing the dependencies ‘SparseM’, ‘MatrixModels’, ‘minqa’, ‘nloptr’, ‘RcppEigen’, ‘carData’, ‘abind’, ‘pbkrtest’, ‘quantreg’, ‘lme4’, ‘car’, ‘goftest’, ‘gridExtra’, ‘nortest’\n",
            "\n",
            "\n",
            "Installing package into ‘/usr/local/lib/R/site-library’\n",
            "(as ‘lib’ is unspecified)\n",
            "\n",
            "Installing package into ‘/usr/local/lib/R/site-library’\n",
            "(as ‘lib’ is unspecified)\n",
            "\n"
          ]
        }
      ],
      "source": [
        "install.packages(\"psych\")\n",
        "install.packages(\"reshape2\")\n",
        "install.packages(\"caret\")\n",
        "install.packages(\"caTools\")\n",
        "install.packages(\"olsrr\")\n",
        "install.packages(\"car\")\n",
        "install.packages(\"glmnet\")\n",
        "\n",
        "#package installation"
      ]
    },
    {
      "cell_type": "code",
      "execution_count": null,
      "metadata": {
        "id": "yRl-Y2qf1l5B"
      },
      "outputs": [],
      "source": [
        "X <- c(\"vh\", \"wind\", \"humidity\", \"temp\", \"ibh\", \"dpg\", \"ibt\", \"vis\")\n",
        "target <- data$ozone\n",
        "data$doy <- NULL\n",
        "\n",
        "#predictor list and response variable defined\n",
        "#note that \"doy\" predictor is omitted as it merely serves as identification for each observation"
      ]
    },
    {
      "cell_type": "markdown",
      "metadata": {
        "id": "Tg27hzktF1a6"
      },
      "source": [
        "EXPLORING THE DATA"
      ]
    },
    {
      "cell_type": "code",
      "execution_count": null,
      "metadata": {
        "id": "AmTpMFtCZ_sF",
        "colab": {
          "base_uri": "https://localhost:8080/",
          "height": 34
        },
        "outputId": "07e22c0a-b8d6-4a04-e40f-ec01e0821554"
      },
      "outputs": [
        {
          "output_type": "display_data",
          "data": {
            "text/html": [
              "FALSE"
            ],
            "text/markdown": "FALSE",
            "text/latex": "FALSE",
            "text/plain": [
              "[1] FALSE"
            ]
          },
          "metadata": {}
        }
      ],
      "source": [
        "anyNA(X) #checking for missing values across all eight predictors. If the function returns \"FALSE\" then there are none:)"
      ]
    },
    {
      "cell_type": "code",
      "execution_count": null,
      "metadata": {
        "id": "zGloPJ5n3tgy"
      },
      "outputs": [],
      "source": [
        "library(psych) #getting summary stats for each of the predictors\n",
        "summary <- describe(data[, X])\n",
        "summary"
      ]
    },
    {
      "cell_type": "code",
      "execution_count": null,
      "metadata": {
        "id": "733vCh8vTHOc"
      },
      "outputs": [],
      "source": [
        "model_all_preds <- lm(target ~ temp + wind + ibh + ibt + vis + humidity + dpg, data = data)\n",
        "\n",
        "cooks_distance <- cooks.distance(model_all_preds)\n",
        "cook_threshold <- 4 / nrow(data)\n",
        "\n",
        "influential_points <- which(cooks_distance > cook_threshold)\n",
        "data <- data[-influential_points, ]\n",
        "\n",
        "#using cooks distance to identify and remove influential points"
      ]
    },
    {
      "cell_type": "code",
      "execution_count": null,
      "metadata": {
        "id": "_bA14oYwY9DB"
      },
      "outputs": [],
      "source": [
        "X <- data[, c(\"vh\", \"wind\", \"humidity\", \"temp\", \"ibh\", \"dpg\", \"ibt\", \"vis\")]\n",
        "target <- data$ozone\n",
        "\n",
        "#redefining predictor list as a vector for computation and regression"
      ]
    },
    {
      "cell_type": "markdown",
      "metadata": {
        "id": "U9D95w7vYgNu"
      },
      "source": [
        "Here, I made a multiple linear regression model with all of the predictors for the exploration of influential points using cook's distance. The influential points are now removed."
      ]
    },
    {
      "cell_type": "code",
      "execution_count": null,
      "metadata": {
        "id": "YmwzHKf-BIWi"
      },
      "outputs": [],
      "source": [
        "par(mfrow = c(4,2))\n",
        "for (col_name in colnames(X)) {\n",
        "    predictor_data <- X[[col_name]]\n",
        "    plot(predictor_data, target, pch = 19, main = paste(\"Scatter Plot for Predictor\", col_name), xlab = col_name, ylab = \"Target\")\n",
        "    hist(predictor_data, breaks = 20, col = \"blue\", main = paste(\"Histogram for Predictor\", col_name), xlab = col_name)\n",
        "}\n",
        "#descriptive graphs generated through a for-loop\n",
        "#includes histograms, scatterplots and box plots"
      ]
    },
    {
      "cell_type": "code",
      "execution_count": null,
      "metadata": {
        "id": "XhgrDMe5w4bk"
      },
      "outputs": [],
      "source": [
        "model_mult = lm(target ~ vh + temp + wind + humidity + ibh + ibt + dpg + vis, data = data)\n",
        "\n",
        "rsquared_mult <- summary(model_mult)$r.squared\n",
        "cat(\"R-squared:\", rsquared, \"\\n\")\n",
        "\n",
        "predictions_mult <- predict(model_mult, newdata = data)\n",
        "\n",
        "mse_mult <- mean((data$target - predictions_mult)^2)\n",
        "cat(\"Mean Squared Error:\", mse, \"\\n\")\n",
        "\n",
        "#calculating R2 and MSE for multiple regression model"
      ]
    },
    {
      "cell_type": "code",
      "execution_count": null,
      "metadata": {
        "id": "l1KbMzkhNdy1"
      },
      "outputs": [],
      "source": [
        "plot(model_mult, which = 1, main = \"Residuals vs Fitted\")\n",
        "\n",
        "plot(model_mult, which = 2, main = \"Normal Q-Q\")\n",
        "\n",
        "#Residual and QQ plot for multiple regression model"
      ]
    },
    {
      "cell_type": "code",
      "execution_count": null,
      "metadata": {
        "id": "zWPeC0MVG67G"
      },
      "outputs": [],
      "source": [
        "library(car)\n",
        "\n",
        "vif_values <- vif(model_mult)\n",
        "\n",
        "print(vif_values)"
      ]
    },
    {
      "cell_type": "markdown",
      "metadata": {
        "id": "wXFX0ntDc6at"
      },
      "source": [
        "Significant multicollinearity is present in variables exhibiting a VIF close to or greater than 10. Thus, temp and ibt are the two most problematic predictors. We will remove them from the data"
      ]
    },
    {
      "cell_type": "markdown",
      "metadata": {
        "id": "9qtGA55OF6ol"
      },
      "source": [
        "VERIFYING LINEAR REGRESSION ASSUMPTIONS"
      ]
    },
    {
      "cell_type": "markdown",
      "metadata": {
        "id": "8qA3qyNadFOd"
      },
      "source": [
        "1)EXISTENCE: looking at the scatter plots and summary stats of each predictor, this condition is satisfied\n",
        "\n",
        "2)INDEPENDENCE: each observation has only one recorded value for each predictor, so we can assume the Y values are independent.\n",
        "\n",
        "3)LINEARITY: seeing as though most of the residual plots are curvilinear, linearity has been violated. We attempted box-cox and square transformation\n",
        "on the response variable, but this did not rectify the curvilinear patterns in the residual plots.\n",
        "\n",
        "4)HOMOSCEDASTICITY: looking at the residual plots for each predictor, all eight predictors exhibit heteroscedasticity. That being said, this\n",
        "assumption has also been violated. However, for the purpose of this project, we will continue with this condition present as there is no\n",
        "appropriate way to fix the severity of the heterscedasticity.\n",
        "\n",
        "5)NORMALITY: Looking at the eight QQ plots, our predictors are all normal, so this assumption is strongly fulfilled.\n",
        "\n",
        "In summary, linearity and homoscedasticity are both significantly violated. However, Applying two different transformations to the target did not quill these violations, so there is nothing further we can do at this time."
      ]
    },
    {
      "cell_type": "markdown",
      "metadata": {
        "id": "uNj7aDpFGDyn"
      },
      "source": [
        "EXPLORING COLLINEARITY"
      ]
    },
    {
      "cell_type": "code",
      "execution_count": null,
      "metadata": {
        "id": "vYutkH-jZFvG"
      },
      "outputs": [],
      "source": [
        "library(reshape2)\n",
        "library(ggplot2)\n",
        "X <- c(\"vh\", \"wind\", \"humidity\", \"temp\", \"ibh\", \"dpg\", \"ibt\", \"vis\")\n",
        "correlation_matrix <- cor(data[, X])\n",
        "correlation_matrix\n",
        "\n",
        "ggplot2::ggplot(data = melt(correlation_matrix), aes(Var1, Var2, fill = value)) +\n",
        "  geom_tile() +\n",
        "  scale_fill_gradient2() +\n",
        "  theme_minimal()"
      ]
    },
    {
      "cell_type": "markdown",
      "metadata": {
        "id": "JVyo--98dWFL"
      },
      "source": [
        "Here, we see that there is some collinearity going on. While there are many methods to remedy collinearity, the best option for this data is to remove one of these predictors and check for collinearity again, repeating the process until the heatmap displays little to no collinearity. We examine the relationships between vh and temp with a correlation of .81, vh and ibt with a correlation of .85, temp and ibt with a correlation of .86, and ibt and ibh with a correlation of -.77. First, we will remove ibt since is displays collinearity with two other predictors and has the highest VIF value"
      ]
    },
    {
      "cell_type": "code",
      "execution_count": null,
      "metadata": {
        "id": "Prc0ZaeUqAuj"
      },
      "outputs": [],
      "source": [
        "library(reshape2)\n",
        "\n",
        "drop_ibt <- c(\"wind\",\"humidity\",\"vh\",\"ibh\",\"dpg\",\"temp\",\"vis\")\n",
        "correlation_matrix <- cor(data[, drop_ibt])\n",
        "correlation_matrix\n",
        "\n",
        "library(ggplot2)\n",
        "ggplot2::ggplot(data = melt(correlation_matrix), aes(Var1, Var2, fill = value)) + geom_tile() + scale_fill_gradient2() + theme_minimal()"
      ]
    },
    {
      "cell_type": "markdown",
      "metadata": {
        "id": "7rqzhZqPMJ8F"
      },
      "source": [
        "The heat map displays less collinearity without ibt. Although temp has a VIF of 8.9, we will not remove it since research shows that temperature is highly correlated with ozone and in that case should not be removed from the model. We've now addressed multicollinearity in our model."
      ]
    },
    {
      "cell_type": "markdown",
      "metadata": {
        "id": "KDnXtoNUMscp"
      },
      "source": [
        "Now that collinearity has been mitigated, let's move on to finding the best model for our data. The method chosen here is backward selection since the model displayed collinearity before two predictors were eliminated. Backward selection helps to address multicollinearity. Thus, using backward selection will keep the current model we have OR remove another predictor."
      ]
    },
    {
      "cell_type": "markdown",
      "metadata": {
        "id": "GaB3z-LgGIsH"
      },
      "source": [
        "BACKWARD SELECTION"
      ]
    },
    {
      "cell_type": "code",
      "execution_count": null,
      "metadata": {
        "id": "CQTPGxnBMz-R"
      },
      "outputs": [],
      "source": [
        "library(olsrr)\n",
        "model <- lm(\n",
        "  formula = target ~ temp + wind\t+ humidity + vh\t+ ibh\t+ dpg\t+ vis,\n",
        "  data = data\n",
        ")\n",
        "\n",
        "BWDfit.p <- ols_step_backward_p(model, prem = 0.05)\n",
        "BWDfit.p\n",
        "backward_model <- ols_step_backward_p(model, prem = 0.05, details = TRUE)"
      ]
    },
    {
      "cell_type": "markdown",
      "metadata": {
        "id": "s8MV5OgXkBAn"
      },
      "source": [
        "Multicollinearity can make it difficult to separate the individual effects of predictor variables, including interaction terms. It can inflate the standard errors of the coefficients, making them less precise and leading to a lack of statistical significance. Thus, we will not attempt checking for/including interaction terms. As we progress in our model building process, we will now conduct stepwise regression."
      ]
    },
    {
      "cell_type": "markdown",
      "metadata": {
        "id": "ks2R1zlIGFmK"
      },
      "source": [
        "STEPWISE REGRESSION"
      ]
    },
    {
      "cell_type": "code",
      "execution_count": null,
      "metadata": {
        "id": "XTz4INp1xh6x"
      },
      "outputs": [],
      "source": [
        "model <- lm(target ~ temp + wind\t+ humidity + vh\t+ ibh\t+ dpg\t+ vis, data = data)\n",
        "step_model <- step(model, direction = \"backward\", k = 2, trace = 2)\n",
        "summary(step_model)\n",
        "\n",
        "predictions_step <- predict(step_model, newdata = data)\n",
        "rsquared_step <- 1 - sum((target - predictions_step)^2) / sum((target - mean(target))^2)\n",
        "mse_step <- mean((target - predictions_step)^2)\n",
        "\n",
        "cat(\"R-squared:\", rsquared_step, \"\\n\")\n",
        "cat(\"Mean Squared Error (MSE):\", mse_step, \"\\n\")"
      ]
    },
    {
      "cell_type": "markdown",
      "metadata": {
        "id": "ZEhGhdNm1Db1"
      },
      "source": [
        "The result of our stepwise regression is a model including humidity, temp, ibh, and vis. Compared to the model found through backward selection, this model includes one less predictor (vis).Additionally, the R-square of this model is .6869 while the R-square of the backward selection model is .602. The backward selection model includes five predictors but this stepwise model only includes four, which allows for better model interpretability. Thus, we prefer the stepwise at this point. Let me note at this point that since multicollinearity was present before eliminating the collinear variables, performing ridge regression is appropriate since its main goal is to rectify collinearity. However, ridge regression only shrinks coefficients down towards zero rather than performing variable selection. The model will have poor interpretability, but we will still perform it to observe how it addresses multicollinearity."
      ]
    },
    {
      "cell_type": "markdown",
      "metadata": {
        "id": "oQNP7gBCoWLt"
      },
      "source": [
        "RIDGE REGRESSION"
      ]
    },
    {
      "cell_type": "code",
      "execution_count": null,
      "metadata": {
        "id": "W-Qk_pTC9D8V"
      },
      "outputs": [],
      "source": [
        "library(glmnet)\n",
        "\n",
        "x <- data.matrix(data[, c('temp', 'vis', 'ibh', 'ibt', 'wind','vh','humidity','dpg')])\n",
        "model <- glmnet(x, target, alpha = 0)\n",
        "\n",
        "cv_model <- cv.glmnet(x, target, alpha = 0)\n",
        "best_lambda <- cv_model$lambda.min\n",
        "plot(cv_model)\n",
        "\n",
        "ridge_model <- glmnet(x, target, alpha = 0, lambda = best_lambda)\n",
        "coef(ridge_model)"
      ]
    },
    {
      "cell_type": "code",
      "execution_count": null,
      "metadata": {
        "id": "4aLM4o8EHDzw"
      },
      "outputs": [],
      "source": [
        "predictions <- predict(ridge_model, newx = x, s = best_lambda)\n",
        "rsquared_ridge <- 1 - sum((target - predictions)^2) / sum((target - mean(target))^2)\n",
        "mse_ridge <- mean((target - predictions)^2)\n",
        "\n",
        "cat(\"R-squared:\", rsquared_ridge, \"\\n\")\n",
        "cat(\"Mean Squared Error (MSE):\", mse_ridge, \"\\n\")"
      ]
    },
    {
      "cell_type": "markdown",
      "metadata": {
        "id": "cAEi2ECb5AV-"
      },
      "source": [
        "LASSO REGRESSION"
      ]
    },
    {
      "cell_type": "code",
      "execution_count": null,
      "metadata": {
        "id": "4YuCBfmvJZSd"
      },
      "outputs": [],
      "source": [
        "cv_model <- cv.glmnet(x, target, alpha = 1)\n",
        "best_lambda <- cv_model$lambda.min\n",
        "plot(cv_model)\n",
        "\n",
        "lasso_model <- glmnet(x, target, alpha = 1, lambda = best_lambda)\n",
        "coef(lasso_model)\n",
        "\n",
        "predictions_lasso <- predict(lasso_model, newx = x, s = best_lambda)\n",
        "rsquared_lasso <- 1 - sum((target - predictions_lasso)^2) / sum((target - mean(target))^2)\n",
        "mse_lasso <- mean((target - predictions_lasso)^2)\n",
        "print(paste(\"R-squared:\", rsquared_lasso))\n",
        "print(paste(\"Mean Squared Error:\", mse_lasso))"
      ]
    },
    {
      "cell_type": "code",
      "source": [
        "multiple_reg <- lm(target ~ vh + temp + wind + ibh + ibt + vis + humidity + dpg, data = data)\n",
        "\n",
        "summary(multiple_reg)\n",
        "\n",
        "predictions_mult <- predict(multiple_reg, newdata = data)\n",
        "rsquared_mult <- 1 - sum((target - predictions_mult)^2) / sum((target - mean(target))^2)\n",
        "mse_mult <- mean((target - predictions_mult)^2)\n",
        "\n",
        "cat(\"R-squared:\", rsquared_mult, \"\\n\")\n",
        "cat(\"Mean Squared Error (MSE):\", mse_mult, \"\\n\")\n"
      ],
      "metadata": {
        "id": "_j5mobW1iln5"
      },
      "execution_count": null,
      "outputs": []
    },
    {
      "cell_type": "markdown",
      "source": [
        "Below is what I'm using for variable significance testing for Backwards selection"
      ],
      "metadata": {
        "id": "NxJtReyp_oLY"
      }
    },
    {
      "cell_type": "code",
      "source": [
        "multiple_reg <- lm(target ~ temp + ibh + humidity, data = data)\n",
        "\n",
        "summary(multiple_reg)\n",
        "\n",
        "predictions_mult <- predict(multiple_reg, newdata = data)\n",
        "rsquared_mult <- 1 - sum((target - predictions_mult)^2) / sum((target - mean(target))^2)\n",
        "mse_mult <- mean((target - predictions_mult)^2)\n",
        "\n",
        "cat(\"R-squared:\", rsquared_mult, \"\\n\")\n",
        "cat(\"Mean Squared Error (MSE):\", mse_mult, \"\\n\")"
      ],
      "metadata": {
        "id": "x5EWM4jDyv6T"
      },
      "execution_count": null,
      "outputs": []
    },
    {
      "cell_type": "markdown",
      "source": [
        "Below is what I'm using for variabler signficance testing for Stepwise Selection"
      ],
      "metadata": {
        "id": "-PC60uoG_xka"
      }
    },
    {
      "cell_type": "code",
      "source": [
        "multiple_reg <- lm(target ~ temp + ibh+ vis + humidity, data = data)\n",
        "\n",
        "summary(multiple_reg)\n",
        "\n",
        "predictions_mult <- predict(multiple_reg, newdata = data)\n",
        "rsquared_mult <- 1 - sum((target - predictions_mult)^2) / sum((target - mean(target))^2)\n",
        "mse_mult <- mean((target - predictions_mult)^2)\n",
        "\n",
        "cat(\"R-squared:\", rsquared_mult, \"\\n\")\n",
        "cat(\"Mean Squared Error (MSE):\", mse_mult, \"\\n\")"
      ],
      "metadata": {
        "id": "sixZVZHw_xYK"
      },
      "execution_count": null,
      "outputs": []
    },
    {
      "cell_type": "markdown",
      "source": [
        "Below is what I'm using for Lasso Regression variable significance testing"
      ],
      "metadata": {
        "id": "zUZvoU7VAAcg"
      }
    },
    {
      "cell_type": "code",
      "source": [
        "multiple_reg <- lm(target ~ temp + ibh + ibt + vis + humidity, data = data)\n",
        "\n",
        "summary(multiple_reg)\n",
        "\n",
        "predictions_mult <- predict(multiple_reg, newdata = data)\n",
        "rsquared_mult <- 1 - sum((target - predictions_mult)^2) / sum((target - mean(target))^2)\n",
        "mse_mult <- mean((target - predictions_mult)^2)\n",
        "\n",
        "cat(\"R-squared:\", rsquared_mult, \"\\n\")\n",
        "cat(\"Mean Squared Error (MSE):\", mse_mult, \"\\n\")"
      ],
      "metadata": {
        "id": "6139FHpoAOMd"
      },
      "execution_count": null,
      "outputs": []
    }
  ],
  "metadata": {
    "colab": {
      "provenance": []
    },
    "kernelspec": {
      "display_name": "R",
      "name": "ir"
    },
    "language_info": {
      "name": "R"
    }
  },
  "nbformat": 4,
  "nbformat_minor": 0
}